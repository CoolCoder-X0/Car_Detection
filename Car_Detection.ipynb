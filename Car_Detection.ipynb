{
 "cells": [
  {
   "cell_type": "code",
   "execution_count": 1,
   "id": "d372e43a-2384-47ab-844a-8ef69a124100",
   "metadata": {},
   "outputs": [],
   "source": [
    "# Libraries import\n",
    "import cv2\n",
    "import numpy as np"
   ]
  },
  {
   "cell_type": "code",
   "execution_count": 2,
   "id": "6c153dc7-5d39-451d-91af-249d78017e39",
   "metadata": {},
   "outputs": [
    {
     "name": "stdout",
     "output_type": "stream",
     "text": [
      "4.10.0\n"
     ]
    }
   ],
   "source": [
    "print(cv2.__version__)"
   ]
  },
  {
   "cell_type": "code",
   "execution_count": 3,
   "id": "79d00079-7752-47ab-b7ec-6606b8aca62c",
   "metadata": {},
   "outputs": [],
   "source": [
    "# Load YOLO model\n",
    "net = cv2.dnn.readNet(\"yolov3.weights\", \"yolov3.cfg\")\n",
    "layer_names = net.getLayerNames()\n",
    "output_layers = [layer_names[i - 1] for i in net.getUnconnectedOutLayers().flatten()]"
   ]
  },
  {
   "cell_type": "code",
   "execution_count": 4,
   "id": "b4801c70-3089-448c-b002-b23b737988c2",
   "metadata": {},
   "outputs": [],
   "source": [
    "# Load the COCO class labels YOLO was trained on\n",
    "with open(\"coco.names\", \"r\") as f:\n",
    "    classes = [line.strip() for line in f.readlines()]"
   ]
  },
  {
   "cell_type": "code",
   "execution_count": 5,
   "id": "9b8035ab-18d2-4f13-bb60-d28182166c15",
   "metadata": {},
   "outputs": [],
   "source": [
    "# Define colors for each class label\n",
    "colors = np.random.uniform(0, 255, size=(len(classes), 3))"
   ]
  },
  {
   "cell_type": "code",
   "execution_count": 6,
   "id": "82a4fb08-5029-412d-8afd-a6b81f43d166",
   "metadata": {},
   "outputs": [],
   "source": [
    "# Load the video\n",
    "cap = cv2.VideoCapture(\"1900-151662242_small.mp4\")\n",
    "# Video by <a href=\"https://pixabay.com/users/variousphotography-1860391/?utm_source=link-attribution&utm_medium=referral&utm_campaign=video&utm_content=1900\">VariousPhotography</a> from <a href=\"https://pixabay.com//?utm_source=link-attribution&utm_medium=referral&utm_campaign=video&utm_content=1900\">Pixabay</a>"
   ]
  },
  {
   "cell_type": "code",
   "execution_count": 7,
   "id": "e4a9b9ec-6ebf-4580-b019-a7f4dd78d9d2",
   "metadata": {},
   "outputs": [],
   "source": [
    "if not cap.isOpened():\n",
    "    print(\"Error: Could not open video.\")\n",
    "    exit()\n",
    "\n",
    "while cap.isOpened():\n",
    "    ret, frame = cap.read()\n",
    "    if not ret:\n",
    "        print(\"Failed to grab frame, or end of video.\")\n",
    "        break\n",
    "    \n",
    "    height, width, channels = frame.shape\n",
    "\n",
    "    # Prepare the frame for YOLO (resize, convert to blob)\n",
    "    blob = cv2.dnn.blobFromImage(frame, 0.00392, (416, 416), (0, 0, 0), True, crop=False)\n",
    "    net.setInput(blob)\n",
    "\n",
    "    # Forward pass: Get the output layers for the frame\n",
    "    outs = net.forward(output_layers)\n",
    "\n",
    "    # Initialize lists for detected objects\n",
    "    class_ids = []\n",
    "    confidences = []\n",
    "    boxes = []\n",
    "\n",
    "    # Process the network outputs\n",
    "    for out in outs:\n",
    "        for detection in out:\n",
    "            scores = detection[5:]\n",
    "            class_id = np.argmax(scores)\n",
    "            confidence = scores[class_id]\n",
    "            if confidence > 0.5:  # Confidence threshold\n",
    "                # Object detected\n",
    "                center_x = int(detection[0] * width)\n",
    "                center_y = int(detection[1] * height)\n",
    "                w = int(detection[2] * width)\n",
    "                h = int(detection[3] * height)\n",
    "\n",
    "                # Coordinates for the bounding box\n",
    "                x = int(center_x - w / 2)\n",
    "                y = int(center_y - h / 2)\n",
    "\n",
    "                boxes.append([x, y, w, h])\n",
    "                confidences.append(float(confidence))\n",
    "                class_ids.append(class_id)\n",
    "\n",
    "    # Apply Non-Maximum Suppression to remove duplicate boxes\n",
    "    indexes = cv2.dnn.NMSBoxes(boxes, confidences, 0.5, 0.4)\n",
    "\n",
    "    # Draw bounding boxes and labels\n",
    "    if len(indexes) > 0:\n",
    "        for i in indexes.flatten():\n",
    "            x, y, w, h = boxes[i]\n",
    "            label = str(classes[class_ids[i]])\n",
    "            confidence = confidences[i]\n",
    "            color = colors[class_ids[i]]\n",
    "\n",
    "            # Draw the bounding box\n",
    "            cv2.rectangle(frame, (x, y), (x + w, y + h), color, 2)\n",
    "\n",
    "            # Add label and confidence score\n",
    "            cv2.putText(frame, f\"{label} {confidence:.2f}\", (x, y + 30), cv2.FONT_HERSHEY_PLAIN, 3, color, 3)\n",
    "\n",
    "    # Display the frame with detected objects\n",
    "    cv2.imshow(\"Video\", frame)\n",
    "\n",
    "    # Break the loop if the Escape key is pressed\n",
    "    if cv2.waitKey(1) & 0xFF == 27: \n",
    "        break\n"
   ]
  },
  {
   "cell_type": "code",
   "execution_count": 8,
   "id": "04bb3de5-94c5-4a01-a775-884cfb9cc9e3",
   "metadata": {},
   "outputs": [],
   "source": [
    "# Release video capture and close all OpenCV windows\n",
    "cap.release()\n",
    "cv2.destroyAllWindows()"
   ]
  }
 ],
 "metadata": {
  "kernelspec": {
   "display_name": "Python 3 (ipykernel)",
   "language": "python",
   "name": "python3"
  },
  "language_info": {
   "codemirror_mode": {
    "name": "ipython",
    "version": 3
   },
   "file_extension": ".py",
   "mimetype": "text/x-python",
   "name": "python",
   "nbconvert_exporter": "python",
   "pygments_lexer": "ipython3",
   "version": "3.11.9"
  }
 },
 "nbformat": 4,
 "nbformat_minor": 5
}
